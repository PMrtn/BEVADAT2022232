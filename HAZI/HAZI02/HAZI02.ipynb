{
 "cells": [
  {
   "cell_type": "code",
   "execution_count": 2,
   "metadata": {},
   "outputs": [],
   "source": [
    "import numpy as np"
   ]
  },
  {
   "cell_type": "code",
   "execution_count": null,
   "metadata": {},
   "outputs": [],
   "source": [
    "#FONTOS!!!\n",
    "\n",
    "# CSAK OTT LEHET HASZNÁLNI FOR LOOP-OT AHOL A FELADAT KÜLÖN KÉRI!\n",
    "# [1,2,3,4] --> ezek az értékek np.array-ek. Ahol listát kérek paraméterként ott külön ki fogom emelni!\n",
    "# Ha végeztél a feladatokkal, akkor notebook-ot alakítsd át .py.\n",
    "# A FÁJLBAN CSAK A FÜGGVÉNYEK LEGYENEK! (KOMMENTEK MARADHATNAK)"
   ]
  },
  {
   "cell_type": "code",
   "execution_count": null,
   "metadata": {},
   "outputs": [],
   "source": [
    "# Írj egy olyan fügvényt, ami megfordítja egy 2d array oszlopait. Bemenetként egy array-t vár.\n",
    "# Be: [[1,2],[3,4]]\n",
    "# Ki: [[2,1],[4,3]]\n",
    "# column_swap()"
   ]
  },
  {
   "cell_type": "code",
   "execution_count": 51,
   "metadata": {},
   "outputs": [],
   "source": [
    "def column_swap(inputarray : np.array) -> np.array:\n",
    "    return np.fliplr(inputarray)"
   ]
  },
  {
   "cell_type": "code",
   "execution_count": null,
   "metadata": {},
   "outputs": [],
   "source": [
    "# Készíts egy olyan függvényt ami összehasonlít két array-t és adjon vissza egy array-ben, hogy hol egyenlőek \n",
    "# Pl Be: [7,8,9], [9,8,7] \n",
    "# Ki: [1]\n",
    "# compare_two_array()\n",
    "# egyenlő elemszámúakra kell csak hogy működjön"
   ]
  },
  {
   "cell_type": "code",
   "execution_count": 54,
   "metadata": {},
   "outputs": [],
   "source": [
    "def compare_two_array(inputarray1 : np.array, inputarray2 : np.array) -> np.array:\n",
    "    return np.where(inputarray1 == inputarray2)"
   ]
  },
  {
   "cell_type": "code",
   "execution_count": null,
   "metadata": {},
   "outputs": [],
   "source": [
    "# Készíts egy olyan függvényt, ami vissza adja string-ként a megadott array dimenzióit:\n",
    "# Be: [[1,2,3], [4,5,6]]\n",
    "# Ki: \"sor: 2, oszlop: 3, melyseg: 1\"\n",
    "# get_array_shape()\n",
    "# 3D-vel még műküdnie kell!, "
   ]
  },
  {
   "cell_type": "code",
   "execution_count": 110,
   "metadata": {},
   "outputs": [],
   "source": [
    "def get_array_shape(inputarray : np.array) -> np.array:\n",
    "    shape = np.array(inputarray).shape\n",
    "    return f\"sor: {shape[0]}, oszlop:{shape[1]}, melyseg:{1 if len(shape) == 2 else shape[0]}\""
   ]
  },
  {
   "cell_type": "code",
   "execution_count": null,
   "metadata": {},
   "outputs": [],
   "source": [
    "# Készíts egy olyan függvényt, aminek segítségével elő tudod állítani egy neurális hálózat tanításához szükséges pred-et egy numpy array-ből. \n",
    "# Bementként add meg az array-t, illetve hogy mennyi class-od van. Kimenetként pedig adjon vissza egy 2d array-t, ahol a sorok az egyes elemek. Minden nullákkal teli legyen és csak ott álljon egyes, ahol a bementi tömb megjelöli. \n",
    "# Pl. ha 1 van a bemeneten és 4 classod van, akkor az adott sorban az array-ban a [1] helyen álljon egy 1-es, a többi helyen pedig 0.\n",
    "# Be: [1, 2, 0, 3], 4\n",
    "# Ki: [[0,1,0,0], [0, 0, 1, 0], [1, 0, 0, 0], [0, 0, 0, 1]]\n",
    "# encode_Y()"
   ]
  },
  {
   "cell_type": "code",
   "execution_count": 117,
   "metadata": {},
   "outputs": [],
   "source": [
    "def encode_Y(inputarray : np.array, numofclasses : int) -> np.array:\n",
    "    pred = np.zeros((len(inputarray), numofclasses))\n",
    "    pred[np.arange(len(inputarray)), inputarray] = 1\n",
    "    return pred"
   ]
  },
  {
   "cell_type": "code",
   "execution_count": null,
   "metadata": {},
   "outputs": [],
   "source": [
    "# A fenti feladatnak valósítsd meg a kiértékelését. Adj meg a 2d array-t és adj vissza a decodolt változatát\n",
    "# Be:  [[0,1,0,0], [0, 0, 1, 0], [1, 0, 0, 0], [0, 0, 0, 1]]\n",
    "# Ki:  [1, 2, 0, 3]\n",
    "# decode_Y()"
   ]
  },
  {
   "cell_type": "code",
   "execution_count": 155,
   "metadata": {},
   "outputs": [
    {
     "name": "stdout",
     "output_type": "stream",
     "text": [
      "[1 2 0 3]\n"
     ]
    }
   ],
   "source": [
    "def decode_Y(inputarray : np.array) -> np.array:\n",
    "    return np.array(np.argmax(inputarray, axis = 1))"
   ]
  },
  {
   "cell_type": "code",
   "execution_count": null,
   "metadata": {},
   "outputs": [],
   "source": [
    "# Készíts egy olyan függvényt, ami képes kiértékelni egy neurális háló eredményét! Bemenetként egy listát és egy array-t és adja vissza azt az elemet, aminek a legnagyobb a valószínüsége(értéke) a listából.\n",
    "# Be: ['alma', 'körte', 'szilva'], [0.2, 0.2, 0.6]. # Az ['alma', 'körte', 'szilva'] egy lista!\n",
    "# Ki: 'szilva'\n",
    "# eval_classification()"
   ]
  },
  {
   "cell_type": "code",
   "execution_count": 6,
   "metadata": {},
   "outputs": [],
   "source": [
    "def eval_classification(inputlist : list, inputarray : np.array) -> np.array:\n",
    "    idx = np.argmax(inputarray)\n",
    "    return inputlist[idx]"
   ]
  },
  {
   "cell_type": "code",
   "execution_count": null,
   "metadata": {},
   "outputs": [],
   "source": [
    "# Készíts egy olyan függvényt, ahol az 1D array-ben a páratlan számokat -1-re cseréli\n",
    "# Be: [1,2,3,4,5,6]\n",
    "# Ki: [-1,2,-1,4,-1,6]\n",
    "# replace_odd_numbers()"
   ]
  },
  {
   "cell_type": "code",
   "execution_count": 10,
   "metadata": {},
   "outputs": [],
   "source": [
    "def replace_odd_numbers(inputarray : np.array) -> np.array:\n",
    "    inputarray[inputarray % 2 == 1] = -1\n",
    "    return inputarray"
   ]
  },
  {
   "cell_type": "code",
   "execution_count": null,
   "metadata": {},
   "outputs": [],
   "source": [
    "# Készíts egy olyan függvényt, ami egy array értékeit -1 és 1-re változtatja, attól függően, hogy az adott elem nagyobb vagy kisebb a paraméterként megadott számnál.\n",
    "# Ha a szám kisebb mint a megadott érték, akkor -1, ha nagyobb vagy egyenlő, akkor pedig 1.\n",
    "# Be: [1, 2, 5, 0], 2\n",
    "# Ki: [-1, 1, 1, -1]\n",
    "# replace_by_value()"
   ]
  },
  {
   "cell_type": "code",
   "execution_count": 11,
   "metadata": {},
   "outputs": [],
   "source": [
    "def replace_by_value(inputarray : np.array, num : int) -> np.array:\n",
    "    return np.where(inputarray < num, -1, 1)"
   ]
  },
  {
   "cell_type": "code",
   "execution_count": null,
   "metadata": {},
   "outputs": [],
   "source": [
    "# Készíts egy olyan függvényt, ami egy array értékeit összeszorozza és az eredményt visszaadja\n",
    "# Be: [1,2,3,4]\n",
    "# Ki: 24\n",
    "# array_multi()\n",
    "# Ha több dimenziós a tömb, akkor az egész tömb elemeinek szorzatával térjen vissza"
   ]
  },
  {
   "cell_type": "code",
   "execution_count": 13,
   "metadata": {},
   "outputs": [],
   "source": [
    "def array_multi(inputarray : np.array) -> int:\n",
    "    return np.prod(inputarray)"
   ]
  },
  {
   "cell_type": "code",
   "execution_count": 17,
   "metadata": {},
   "outputs": [],
   "source": [
    "# Készíts egy olyan függvényt, ami egy 2D array értékeit összeszorozza és egy olyan array-el tér vissza, aminek az elemei a soroknak a szorzata\n",
    "# Be: [[1, 2], [3, 4]]\n",
    "# Ki: [2, 12]\n",
    "# array_multi_2d()"
   ]
  },
  {
   "cell_type": "code",
   "execution_count": 63,
   "metadata": {},
   "outputs": [],
   "source": [
    "def array_multi_2d(inputarray : np.array) -> np.array:\n",
    "    return np.prod(inputarray, axis = 1)"
   ]
  },
  {
   "cell_type": "code",
   "execution_count": null,
   "metadata": {},
   "outputs": [],
   "source": [
    "# Készíts egy olyan függvényt, amit egy meglévő numpy array-hez készít egy bordert nullásokkal. Bementként egy array-t várjon és kimenetként egy array jelenjen meg aminek van border-je\n",
    "# Be: [[1,2],[3,4]]\n",
    "# Ki: [[0,0,0,0],[0,1,2,0],[0,3,4,0],[0,0,0,0]]\n",
    "# add_border()\n"
   ]
  },
  {
   "cell_type": "code",
   "execution_count": 61,
   "metadata": {},
   "outputs": [],
   "source": [
    "def add_border(inputarray : np.array) -> np.array:\n",
    "    borderedarray = np.pad(inputarray, pad_width = 1, mode = 'constant', constant_values = 0)\n",
    "    return borderedarray"
   ]
  },
  {
   "cell_type": "code",
   "execution_count": null,
   "metadata": {},
   "outputs": [],
   "source": [
    "# A KÖTVETKEZŐ FELADATOKHOZ NÉZZÉTEK MEG A NUMPY DATA TYPE-JÁT!"
   ]
  },
  {
   "cell_type": "code",
   "execution_count": null,
   "metadata": {},
   "outputs": [],
   "source": [
    "# Készíts egy olyan függvényt ami két dátum között felsorolja az összes napot és ezt adja vissza egy numpy array-ben. A fgv ként str vár paraméterként 'YYYY-MM' formában.\n",
    "# Be: '2023-03', '2023-04'  # mind a kettő paraméter str.\n",
    "# Ki: ['2023-03-01', '2023-03-02', .. , '2023-03-31',]\n",
    "# list_days()"
   ]
  },
  {
   "cell_type": "code",
   "execution_count": 25,
   "metadata": {},
   "outputs": [],
   "source": [
    "def list_days(start_date: str, end_date: str)-> np.array:\n",
    "    alldays = np.arange(start_date, end_date, dtype='datetime64[D]')\n",
    "    return alldays"
   ]
  },
  {
   "cell_type": "code",
   "execution_count": null,
   "metadata": {},
   "outputs": [],
   "source": [
    "# Írj egy fügvényt ami vissza adja az aktuális dátumot az alábbi formában: YYYY-MM-DD. Térjen vissza egy 'numpy.datetime64' típussal.\n",
    "# Be:\n",
    "# Ki: 2017-03-24\n",
    "# get_act_date()"
   ]
  },
  {
   "cell_type": "code",
   "execution_count": 28,
   "metadata": {},
   "outputs": [],
   "source": [
    "def get_act_date() -> np.datetime64:\n",
    "    return np.datetime64('today')"
   ]
  },
  {
   "cell_type": "code",
   "execution_count": 56,
   "metadata": {},
   "outputs": [],
   "source": [
    "# Írj egy olyan függvényt ami visszadja, hogy mennyi másodperc telt el 1970 január 01. 00:02:00 óta. Int-el térjen vissza\n",
    "# Be: \n",
    "# Ki: másodpercben az idő, int-é kasztolva\n",
    "# sec_from_1970()"
   ]
  },
  {
   "cell_type": "code",
   "execution_count": 57,
   "metadata": {},
   "outputs": [],
   "source": [
    "def sec_from_1970() -> int:\n",
    "    ellapsedsecs = (np.datetime64('now') - np.datetime64('1970-01-01 00:02:00')).item().total_seconds()\n",
    "    return int(ellapsedsecs)"
   ]
  }
 ],
 "metadata": {
  "kernelspec": {
   "display_name": "Python 3",
   "language": "python",
   "name": "python3"
  },
  "language_info": {
   "codemirror_mode": {
    "name": "ipython",
    "version": 3
   },
   "file_extension": ".py",
   "mimetype": "text/x-python",
   "name": "python",
   "nbconvert_exporter": "python",
   "pygments_lexer": "ipython3",
   "version": "3.9.6"
  },
  "orig_nbformat": 4
 },
 "nbformat": 4,
 "nbformat_minor": 2
}
